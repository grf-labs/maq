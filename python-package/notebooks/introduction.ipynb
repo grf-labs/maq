{
 "cells": [
  {
   "cell_type": "markdown",
   "id": "73a03900",
   "metadata": {},
   "source": [
    "# Multi-Armed Qini intro\n",
    "\n",
    "This notebook gives a quick overview of Qini curves for multi-armed treatment rules in the form of toy example walkthrough."
   ]
  },
  {
   "cell_type": "code",
   "execution_count": null,
   "id": "6253bbf7",
   "metadata": {},
   "outputs": [],
   "source": [
    "# Treatment effect estimators (R-learner with Causal ML + XGBoost)\n",
    "from causalml.inference.meta import BaseRRegressor\n",
    "from xgboost import XGBRFRegressor\n",
    "\n",
    "# Generalized Qini curves\n",
    "from maq import MAQ, get_ipw_scores\n",
    "\n",
    "import numpy as np\n",
    "np.random.seed(42)"
   ]
  },
  {
   "cell_type": "markdown",
   "id": "157b0814",
   "metadata": {},
   "source": [
    "## Setup\n",
    "\n",
    "Let $k = 1, \\ldots K$ denote one of $K$ mutually exclusive and costly treatment arms and $k = 0$ a (costless) control arm.  Let $Y_i(k)$ denote the potential outcome in the $k$-th arm for unit i, and $X_i$ a set of observable characteristics.\n",
    "\n",
    "Let the function $\\hat \\tau(\\cdot)$ be an estimate of the conditional average treatment effect (CATE) obtained from a training set, where the $k$-th element estimates\n",
    "$$\n",
    "\\tau_k(X_i) = E[Y_i(k) - Y(0) ~|~ X_i].\n",
    "$$\n",
    "\n",
    "The Qini curve $Q(B)$ quantifies the value of assigning treatment in accordance with our estimated function $\\hat \\tau(\\cdot)$ over different values of a budget constraint $B$. With a **single treatment arm** $K=1$ we can formalize this as\n",
    "$$\n",
    "Q(B) = E[ \\pi_B(X_i)\\left( Y_i(1) - Y_i(0) )\\right] = E[\\pi_B(X_i) \\tau(X_i)],\n",
    "$$\n",
    "\n",
    "\n",
    "where $\\pi_B(X_i) \\in \\{0, 1\\}$ is the *policy* that assigns treatment (=1) to those units *predicted* by $\\hat \\tau(\\cdot)$ to benefit the most such that on average we incur a cost of at most B. If we let $C(\\cdot)$ denote our known cost function (e.g. $C(X_i) = 4.2$ means assigning the $i$-th unit the treatment costs 4.2 on some chosen cost denomination), then $\\pi_B$ is going to look like\n",
    "$$\n",
    "\\pi_B = argmax_{\\pi} \\left\\{ E[\\pi_B(X_i) \\hat \\tau(X_i)] : E[\\pi_B(X_i) C(X_i)] \\leq B  \\right\\}\n",
    "$$\n",
    "\n",
    "While slightly daunting written down formally, it turns out expressing $\\pi_B$ is quite simple: it essentially reduces to a threshold rule: for a given $B$, treat the units where the predicted cost to benefit ratio $\\frac{\\hat \\tau(X_i)}{C(X_i)}$ is above a cutoff. The  Qini curve can be used to quantify the value, as measured by the expected gain over assigning each unit the control arm when using the estimated function $\\hat \\tau(\\cdot)$ with cost structure $C(\\cdot)$ to allocate treatment,\n",
    "as we vary the available budget $B$.\n",
    "\n",
    "With **multiple treatment arms** $K > 1$, our object of interest, the Qini curve, is the same, we just need to add an inner product $\\langle,\\rangle$ to the notation,\n",
    "$$\n",
    "Q(B) = E[\\langle \\pi_B(X_i),~ \\tau(X_i) \\rangle],\n",
    "$$\n",
    "to denote that $\\pi_B(X_i)$ now is a $K$-length selection vector with 1 in the $k$-th entry if we predict that it is optimal to assign the $i$-th unit that arm at the given budget constraint. Similarly to above, $\\pi_B$ takes the following form\n",
    "$$\n",
    "\\pi_B = argmax_{\\pi} \\left\\{ E[\\langle \\pi_B(X_i),~ \\hat \\tau(X_i)\\rangle] : E[\\langle \\pi_B(X_i),~ C(X_i)\\rangle] \\leq B  \\right\\}.\n",
    "$$\n",
    "Expressing $\\pi_B$ is more complicated now, as for each budget constraint $B$, $\\pi_B$ has to make decisions of the form \"should I assign the $i$-th unit an initial arm, or if the $j$-th unit had already been assigned an arm: should I upgrade this person to a costlier but more effective arm?\". It turns out that it is possible to express $\\pi_B$ as a thresholding rule (for details we refer to this [paper](https://arxiv.org/abs/2306.11979)), yielding tractable ways to construct Qini curves for multi-armed treatment rules."
   ]
  },
  {
   "cell_type": "markdown",
   "id": "f441c629",
   "metadata": {},
   "source": [
    "## Example\n",
    "\n",
    "### Fitting a CATE function on a training set\n",
    "\n",
    "Generate some simple (synthetic) data with $K=2$ treatment arms, where the second arm is more effective on average."
   ]
  },
  {
   "cell_type": "code",
   "execution_count": null,
   "id": "509021f8",
   "metadata": {},
   "outputs": [],
   "source": [
    "n = 20000\n",
    "p = 5\n",
    "\n",
    "# Draw a treatment assignment from {0, 1, 2} uniformly\n",
    "W = np.random.choice([0, 1, 2], n)\n",
    "# Generate p observable characteristics where some are related to the CATE\n",
    "X = np.random.rand(n, p)\n",
    "Y = X[:, 1] + X[:, 2]*(W == 1) + 1.5*X[:, 3]*(W == 2) + np.random.randn(n)\n",
    "# (in this example, the true arm 2 CATE is 1.5*X[:, 3])\n",
    "\n",
    "# Generate a train/test split\n",
    "n_train = 15000\n",
    "ix = np.random.permutation(n)\n",
    "train, test = ix[:n_train], ix[n_train:]"
   ]
  },
  {
   "cell_type": "markdown",
   "id": "d243adf8",
   "metadata": {},
   "source": [
    "Obtain $\\hat \\tau(\\cdot)$ by fitting a CATE estimator on the training set (using an *R-learner*, for example).\n"
   ]
  },
  {
   "cell_type": "code",
   "execution_count": null,
   "id": "fb43f8c9",
   "metadata": {
    "scrolled": true
   },
   "outputs": [],
   "source": [
    "# Use known propensities (1/3)\n",
    "W_hat = np.repeat(1 / 3, n_train)\n",
    "propensities = {0: W_hat, 1: W_hat, 2: W_hat}\n",
    "\n",
    "rlearner = BaseRRegressor(XGBRFRegressor(), random_state=42)\n",
    "rlearner.fit(X[train, :], W[train], Y[train], propensities)"
   ]
  },
  {
   "cell_type": "markdown",
   "id": "c20d17fc",
   "metadata": {},
   "source": [
    "### Estimating Q(B) on a test set\n",
    "\n",
    "In order to *estimate* the Qini curve $Q(B)$, we need to construct a matrix of suitable evaluation *scores* (that we denote by $\\Gamma$) that have the property that when averaged they act as treatment effect estimates.\n",
    "\n",
    "If we know the treatment randomization probabilities $P[W_i=k~|~X_i]$, it turns out that constructing these scores is easy: we can simply use inverse-propensity weighting (IPW). With $K$ treatment arms, the scores for the $k$-th arm\n",
    "then takes the following form\n",
    "\n",
    "$$\n",
    "\\Gamma_{i,k} = \\frac{1(W_i=k)Y_i}{P[W_i=k~|~X_i]} - \\frac{1(W_i=0)Y_i}{P[W_i=0~|~X_i]},\n",
    "$$\n",
    "\n",
    "where $W_i$ and $Y_i$ are the treatment assignment and observed outcome for test set unit i. An estimate of the ATE for the $k$-th arm is given by the average of these scores: $\\frac{1}{n_{test}} \\sum_{i=1}^{n_{test}} \\Gamma_{i,k}$. An IPW-based estimate of $Q(B)$ is going to be an average of these scores that \"matches\" the underlying policy prescription $\\pi_B$.\n",
    "\n",
    "the `maq` package has a simple convenience utility `get_ipw_scores` that can be used to construct these via IPW (which by default assumes the arms have uniform assignment probabilities $\\frac{1}{K+1}$).\n",
    "\n",
    "*Note*: if the randomization probabilities are not known (as could be the case in an observational setting), then a more robust alternative to form the scores via plugging in estimates of the propensities into the expression above, is to use augmented inverse-propensity weighting (AIPW), yielding a doubly robust estimate of the Qini curve. This approach is not covered here, for details we refer to the [paper](https://arxiv.org/abs/2306.11979).\n"
   ]
  },
  {
   "cell_type": "code",
   "execution_count": null,
   "id": "f674c2aa",
   "metadata": {},
   "outputs": [],
   "source": [
    "# Construct an n_test*K matrix of evaluation scores \n",
    "IPW_scores = get_ipw_scores(Y[test], W[test])\n",
    "\n",
    "# Predict CATEs on the test set\n",
    "tau_hat = rlearner.predict(X[test, :])\n",
    "\n",
    "# Specify our cost structure, \n",
    "# assume the cost of assigning each unit the first arm is 0.2\n",
    "# and the cost of assigning each unit the second more effective arm is 0.5\n",
    "# (these can also be array-valued if costs vary by unit)\n",
    "cost = [0.2, 0.5]"
   ]
  },
  {
   "cell_type": "code",
   "execution_count": null,
   "id": "0b66c61b",
   "metadata": {
    "scrolled": false
   },
   "outputs": [],
   "source": [
    "# Start by fitting a baseline Qini curve that only considers the average treatment effects and costs\n",
    "qini_baseline = MAQ(target_with_covariates=False, n_bootstrap=200)\n",
    "qini_baseline.fit(tau_hat, cost, IPW_scores)\n",
    "\n",
    "qini_baseline.plot()"
   ]
  },
  {
   "cell_type": "markdown",
   "id": "ee3ec40c",
   "metadata": {},
   "source": [
    "This curve has a kink at $B=0.2$: the first segment traces out the ATE of the lower cost arm, and the second segment the ATE of the higher cost but on average more effective arm. Points on this curve represents the average benefit per unit when targeting an arbitrary group of units.\n",
    "\n",
    "For example, at an average spend of 0.2 our gain (along with standard errors) is equal to the arm 1 ATE of"
   ]
  },
  {
   "cell_type": "code",
   "execution_count": null,
   "id": "b2f204ef",
   "metadata": {},
   "outputs": [],
   "source": [
    "qini_baseline.average_gain(0.2)"
   ]
  },
  {
   "cell_type": "markdown",
   "id": "3027ca3d",
   "metadata": {},
   "source": [
    "Next, we fit a Qini curve for arm 1"
   ]
  },
  {
   "cell_type": "code",
   "execution_count": null,
   "id": "174fa773",
   "metadata": {},
   "outputs": [],
   "source": [
    "tau_hat_1 = tau_hat[:, 0]\n",
    "cost_1 = cost[0]\n",
    "IPW_scores_1 = IPW_scores[:, 0]\n",
    "\n",
    "qini_1 = MAQ(n_bootstrap=200).fit(tau_hat_1, cost_1, IPW_scores_1)"
   ]
  },
  {
   "cell_type": "code",
   "execution_count": null,
   "id": "a37d3e17",
   "metadata": {
    "scrolled": false
   },
   "outputs": [],
   "source": [
    "qini_baseline.plot()\n",
    "# Plot curve with 95% confidence bars\n",
    "qini_1.plot(color=\"blue\", show_ci=True, label=\"arm 1\")\n"
   ]
  },
  {
   "cell_type": "markdown",
   "id": "b2556d78",
   "metadata": {},
   "source": [
    "The Qini curve for this arm plateaus at a spend of around"
   ]
  },
  {
   "cell_type": "code",
   "execution_count": null,
   "id": "e4ce759e",
   "metadata": {},
   "outputs": [],
   "source": [
    "print(qini_1.path_spend_[-1])"
   ]
  },
  {
   "cell_type": "markdown",
   "id": "b7088967",
   "metadata": {},
   "source": [
    "which means that at this spend level we have given treatment to all units predicted to benefit from treatment (that is, `tau_hat_1` is > 0). We can read off estimates and std errors from the curve, for example at a spend of $B=0.1$ per unit, the estimated average treatment effect per unit is"
   ]
  },
  {
   "cell_type": "code",
   "execution_count": null,
   "id": "8d3e05a9",
   "metadata": {},
   "outputs": [],
   "source": [
    "qini_1.average_gain(0.1)"
   ]
  },
  {
   "cell_type": "markdown",
   "id": "c831e214",
   "metadata": {},
   "source": [
    "(these standard errors are conditional on the estimated function $\\hat \\tau(\\cdot)$ and quantify test set uncertainty in estimating the Qini curve).\n",
    "\n",
    "We can assess the value of targeting with arm 1 at various spend levels by estimating the vertical difference between the blue and black line. Let's call the Qini curve for arm 1 $Q_1(B)$ and the Qini curve for the baseline policy $\\overline Q(B)$. At $B=0.1$, an estimate of $Q_1(0.1) - \\overline Q(0.1)$ is"
   ]
  },
  {
   "cell_type": "code",
   "execution_count": null,
   "id": "0e33191d",
   "metadata": {},
   "outputs": [],
   "source": [
    "est, std_err = qini_1.difference_gain(qini_baseline, 0.1)\n",
    "est, std_err"
   ]
  },
  {
   "cell_type": "markdown",
   "id": "229c0aea",
   "metadata": {},
   "source": [
    "That is, at a budget of 0.1 per unit a 95% confidence interval for the increase in gain when targeting with the given arm 1 CATE function over random targeting is"
   ]
  },
  {
   "cell_type": "code",
   "execution_count": null,
   "id": "bde64358",
   "metadata": {},
   "outputs": [],
   "source": [
    "[est - 1.96*std_err, est + 1.96*std_err]"
   ]
  },
  {
   "cell_type": "markdown",
   "id": "89a85f21",
   "metadata": {},
   "source": [
    "Similarily, we can estimate a Qini curve $Q_2(B)$ for the second costlier arm"
   ]
  },
  {
   "cell_type": "code",
   "execution_count": null,
   "id": "73816820",
   "metadata": {},
   "outputs": [],
   "source": [
    "tau_hat_2 = tau_hat[:, 1]\n",
    "cost_2 = cost[1]\n",
    "IPW_scores_2 = IPW_scores[:, 1]\n",
    "\n",
    "qini_2 = MAQ(n_bootstrap=200).fit(tau_hat_2, cost_2, IPW_scores_2)"
   ]
  },
  {
   "cell_type": "code",
   "execution_count": null,
   "id": "f3dc13a1",
   "metadata": {
    "scrolled": false
   },
   "outputs": [],
   "source": [
    "qini_baseline.plot()\n",
    "qini_1.plot(color=\"blue\", label=\"arm 1\")\n",
    "qini_2.plot(color=\"red\", label=\"arm 2\")"
   ]
  },
  {
   "cell_type": "markdown",
   "id": "d72c8e60",
   "metadata": {},
   "source": [
    "Finally, we can see what a Qini curve $Q(B)$ using both arms looks like."
   ]
  },
  {
   "cell_type": "code",
   "execution_count": null,
   "id": "2cbc3082",
   "metadata": {
    "scrolled": false
   },
   "outputs": [],
   "source": [
    "qini_ma = MAQ(n_bootstrap=200).fit(tau_hat, cost, IPW_scores)\n",
    "\n",
    "qini_baseline.plot()\n",
    "qini_1.plot(color=\"blue\", label=\"arm 1\")\n",
    "qini_2.plot(color=\"red\", label=\"arm 2\")\n",
    "qini_ma.plot(color=\"green\", label=\"both arms\")"
   ]
  },
  {
   "cell_type": "markdown",
   "id": "b8aee845",
   "metadata": {},
   "source": [
    "Qini curves for single-armed treatment rules allow for assessing the value of targeting with a specific arm or targeting function. The generalization of the Qini to multiple treatment arms allows us to also assess the value of targeting with a combination of arms.\n",
    "\n",
    "At $B=0.3$, the estimated increase in gain when targeting with both arms over using only the second arm, $Q(0.3) - Q_2(0.3)$, is"
   ]
  },
  {
   "cell_type": "code",
   "execution_count": null,
   "id": "33fb9348",
   "metadata": {},
   "outputs": [],
   "source": [
    "qini_ma.difference_gain(qini_2, 0.3)"
   ]
  },
  {
   "cell_type": "markdown",
   "id": "ae691ca3",
   "metadata": {},
   "source": [
    "In this example, a multi-armed policy achieves a larger gain by assigning the treatment that is most cost-beneficial to each test set unit. The underlying policy $\\pi_B$ looks like"
   ]
  },
  {
   "cell_type": "code",
   "execution_count": null,
   "id": "529d4802",
   "metadata": {
    "scrolled": true
   },
   "outputs": [],
   "source": [
    "qini_ma.predict(0.3)"
   ]
  },
  {
   "cell_type": "markdown",
   "id": "4dbe9ecf",
   "metadata": {},
   "source": [
    "where rows correspond to $\\pi_B(X_i)$, where the $k$-th column contains a 1 if it is optimal to assign this arm to the $i$-th unit at the given spend (and all entries 0 if the control arm is assigned). An alternative representation of the policy is to take values in the treatment arm set {0, 1, 2}"
   ]
  },
  {
   "cell_type": "code",
   "execution_count": null,
   "id": "d193b972",
   "metadata": {},
   "outputs": [],
   "source": [
    "qini_ma.predict(0.3, prediction_type=\"vector\")"
   ]
  },
  {
   "cell_type": "markdown",
   "id": "3c2ba17c",
   "metadata": {},
   "source": [
    "In addition to comparing points on different Qini curves, we can also compare a across a range of spend levels by estimating an area between two curves up to a maximum $\\overline B$. An estimate and standard error of the area under the green and black curves up to $\\overline B=0.5$, the integral $\\int_{0}^{0.5} (Q(B) - Q_2(B))dB$, is"
   ]
  },
  {
   "cell_type": "code",
   "execution_count": null,
   "id": "934a6f62",
   "metadata": {},
   "outputs": [],
   "source": [
    "qini_ma.integrated_difference(qini_baseline, 0.5)"
   ]
  }
 ],
 "metadata": {
  "kernelspec": {
   "display_name": "Python 3 (ipykernel)",
   "language": "python",
   "name": "python3"
  },
  "language_info": {
   "codemirror_mode": {
    "name": "ipython",
    "version": 3
   },
   "file_extension": ".py",
   "mimetype": "text/x-python",
   "name": "python",
   "nbconvert_exporter": "python",
   "pygments_lexer": "ipython3",
   "version": "3.9.18"
  }
 },
 "nbformat": 4,
 "nbformat_minor": 5
}
